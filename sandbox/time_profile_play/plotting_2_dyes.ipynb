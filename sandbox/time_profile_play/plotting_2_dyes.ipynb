{
 "cells": [
  {
   "cell_type": "code",
   "execution_count": 1,
   "id": "01d8e213-be32-4693-843e-aaaf39f0ec13",
   "metadata": {},
   "outputs": [],
   "source": [
    "import glob, os\n",
    "from itertools import cycle\n",
    "\n",
    "import napari\n",
    "import numpy as np\n",
    "from napari.layers import Shapes, Image\n",
    "\n",
    "import matplotlib.pyplot as plt"
   ]
  },
  {
   "cell_type": "code",
   "execution_count": 2,
   "id": "cae6d41a-b78f-4f40-8d00-ba7261d349ff",
   "metadata": {},
   "outputs": [
    {
     "data": {
      "text/plain": [
       "True"
      ]
     },
     "execution_count": 2,
     "metadata": {},
     "output_type": "execute_result"
    }
   ],
   "source": [
    "files_path = \"/Volumes/Transfer/OM_data/raw_data/Videosdata/20221021/\"\n",
    "# files_path = \"/Users/rubencito/p_experimental/image_analysis/napari_play/OMAAS/test_data/11h-27m-32s.sif\"\n",
    "\n",
    "\n",
    "# files_path = \"/Volumes/GroupNiggli/Ruben/OM_images_examples/10h-32m-47s.sif\"\n",
    "os.path.exists(files_path)"
   ]
  },
  {
   "cell_type": "code",
   "execution_count": 3,
   "id": "a252071c-7573-4fcc-9d62-853cd568572b",
   "metadata": {},
   "outputs": [
    {
     "name": "stdout",
     "output_type": "stream",
     "text": [
      "/Volumes/Transfer/OM_data/raw_data/Videosdata/20221021/11h-52m-38s.sif\n",
      "/Volumes/Transfer/OM_data/raw_data/Videosdata/20221021/11h-53m-00s.sif\n",
      "/Volumes/Transfer/OM_data/raw_data/Videosdata/20221021/11h-54m-50s.sif\n",
      "/Volumes/Transfer/OM_data/raw_data/Videosdata/20221021/11h-59m-05s.sif\n",
      "/Volumes/Transfer/OM_data/raw_data/Videosdata/20221021/11h-59m-41s.sif\n",
      "/Volumes/Transfer/OM_data/raw_data/Videosdata/20221021/12h-00m-15s.sif\n",
      "/Volumes/Transfer/OM_data/raw_data/Videosdata/20221021/12h-08m-13s.sif\n",
      "/Volumes/Transfer/OM_data/raw_data/Videosdata/20221021/12h-08m-52s.sif\n",
      "/Volumes/Transfer/OM_data/raw_data/Videosdata/20221021/12h-17m-09s.sif\n",
      "/Volumes/Transfer/OM_data/raw_data/Videosdata/20221021/12h-28m-08s.sif\n",
      "/Volumes/Transfer/OM_data/raw_data/Videosdata/20221021/12h-31m-19s.sif\n",
      "/Volumes/Transfer/OM_data/raw_data/Videosdata/20221021/12h-34m-11s.sif\n",
      "/Volumes/Transfer/OM_data/raw_data/Videosdata/20221021/12h-38m-15s.sif\n",
      "/Volumes/Transfer/OM_data/raw_data/Videosdata/20221021/12h-53m-46s.sif\n",
      "/Volumes/Transfer/OM_data/raw_data/Videosdata/20221021/13h-18m-29s.sif\n",
      "/Volumes/Transfer/OM_data/raw_data/Videosdata/20221021/13h-19m-33s.sif\n",
      "/Volumes/Transfer/OM_data/raw_data/Videosdata/20221021/13h-22m-32s.sif\n",
      "/Volumes/Transfer/OM_data/raw_data/Videosdata/20221021/13h-26m-45s.sif\n",
      "/Volumes/Transfer/OM_data/raw_data/Videosdata/20221021/13h-27m-47s.sif\n",
      "/Volumes/Transfer/OM_data/raw_data/Videosdata/20221021/13h-28m-24s.sif\n",
      "/Volumes/Transfer/OM_data/raw_data/Videosdata/20221021/13h-29m-29s.sif\n",
      "/Volumes/Transfer/OM_data/raw_data/Videosdata/20221021/13h-33m-40s.sif\n",
      "/Volumes/Transfer/OM_data/raw_data/Videosdata/20221021/13h-38m-54s.sif\n",
      "/Volumes/Transfer/OM_data/raw_data/Videosdata/20221021/13h-40m-56s.sif\n",
      "/Volumes/Transfer/OM_data/raw_data/Videosdata/20221021/13h-41m-55s.sif\n",
      "/Volumes/Transfer/OM_data/raw_data/Videosdata/20221021/13h-42m-38s.sif\n",
      "/Volumes/Transfer/OM_data/raw_data/Videosdata/20221021/13h-43m-04s.sif\n",
      "/Volumes/Transfer/OM_data/raw_data/Videosdata/20221021/13h-43m-53s.sif\n",
      "/Volumes/Transfer/OM_data/raw_data/Videosdata/20221021/13h-44m-19s.sif\n",
      "/Volumes/Transfer/OM_data/raw_data/Videosdata/20221021/13h-44m-43s.sif\n",
      "/Volumes/Transfer/OM_data/raw_data/Videosdata/20221021/13h-45m-17s.sif\n",
      "/Volumes/Transfer/OM_data/raw_data/Videosdata/20221021/13h-45m-39s.sif\n",
      "/Volumes/Transfer/OM_data/raw_data/Videosdata/20221021/13h-46m-14s.sif\n",
      "/Volumes/Transfer/OM_data/raw_data/Videosdata/20221021/13h-46m-41s.sif\n",
      "/Volumes/Transfer/OM_data/raw_data/Videosdata/20221021/13h-47m-07s.sif\n",
      "/Volumes/Transfer/OM_data/raw_data/Videosdata/20221021/13h-47m-30s.sif\n",
      "/Volumes/Transfer/OM_data/raw_data/Videosdata/20221021/13h-48m-01s.sif\n",
      "/Volumes/Transfer/OM_data/raw_data/Videosdata/20221021/13h-48m-23s.sif\n",
      "/Volumes/Transfer/OM_data/raw_data/Videosdata/20221021/13h-48m-46s.sif\n",
      "/Volumes/Transfer/OM_data/raw_data/Videosdata/20221021/13h-49m-17s.sif\n",
      "/Volumes/Transfer/OM_data/raw_data/Videosdata/20221021/13h-49m-40s.sif\n",
      "/Volumes/Transfer/OM_data/raw_data/Videosdata/20221021/13h-50m-08s.sif\n",
      "/Volumes/Transfer/OM_data/raw_data/Videosdata/20221021/13h-50m-30s.sif\n",
      "/Volumes/Transfer/OM_data/raw_data/Videosdata/20221021/13h-50m-52s.sif\n",
      "/Volumes/Transfer/OM_data/raw_data/Videosdata/20221021/13h-51m-15s.sif\n",
      "/Volumes/Transfer/OM_data/raw_data/Videosdata/20221021/13h-51m-39s.sif\n",
      "/Volumes/Transfer/OM_data/raw_data/Videosdata/20221021/13h-52m-04s.sif\n",
      "/Volumes/Transfer/OM_data/raw_data/Videosdata/20221021/13h-52m-31s.sif\n",
      "/Volumes/Transfer/OM_data/raw_data/Videosdata/20221021/13h-52m-52s.sif\n",
      "/Volumes/Transfer/OM_data/raw_data/Videosdata/20221021/13h-54m-00s.sif\n",
      "/Volumes/Transfer/OM_data/raw_data/Videosdata/20221021/13h-54m-22s.sif\n",
      "/Volumes/Transfer/OM_data/raw_data/Videosdata/20221021/13h-55m-01s.sif\n",
      "/Volumes/Transfer/OM_data/raw_data/Videosdata/20221021/14h-00m-28s.sif\n",
      "/Volumes/Transfer/OM_data/raw_data/Videosdata/20221021/14h-00m-50s.sif\n",
      "/Volumes/Transfer/OM_data/raw_data/Videosdata/20221021/14h-01m-54s.sif\n",
      "/Volumes/Transfer/OM_data/raw_data/Videosdata/20221021/14h-02m-17s.sif\n",
      "/Volumes/Transfer/OM_data/raw_data/Videosdata/20221021/14h-02m-41s.sif\n",
      "/Volumes/Transfer/OM_data/raw_data/Videosdata/20221021/14h-03m-24s.sif\n",
      "/Volumes/Transfer/OM_data/raw_data/Videosdata/20221021/14h-03m-46s.sif\n",
      "59\n"
     ]
    }
   ],
   "source": [
    "file_list = []\n",
    "for file in glob.glob(files_path + '*.sif'):\n",
    "    print(file)\n",
    "    file_list.append(file)\n",
    "    \n",
    "print(len(file_list))"
   ]
  },
  {
   "cell_type": "code",
   "execution_count": 4,
   "id": "5b03029d-957f-4cce-b5fe-d3c4ca6c8ef3",
   "metadata": {},
   "outputs": [
    {
     "data": {
      "text/plain": [
       "'/Volumes/Transfer/OM_data/raw_data/Videosdata/20221021/13h-29m-29s.sif'"
      ]
     },
     "execution_count": 4,
     "metadata": {},
     "output_type": "execute_result"
    }
   ],
   "source": [
    "file_list[20]"
   ]
  },
  {
   "cell_type": "markdown",
   "id": "43691873-992b-46c0-a9b5-2bf6a10b2b40",
   "metadata": {},
   "source": [
    "## Load a recording from your volume"
   ]
  },
  {
   "cell_type": "code",
   "execution_count": 5,
   "id": "1f9d2576-4aeb-4d23-a194-0dd850e2f7dc",
   "metadata": {},
   "outputs": [],
   "source": [
    "# from math import gamma\n",
    "\n",
    "\n",
    "viewer2 = napari.Viewer()\n",
    "# viewer.show()\n",
    "# viewer.open(path=file_list[7:8], plugin=\"napari-omaas\")\n",
    "viewer2.open(path=file_list[20], plugin=\"napari-omaas\", name = \"my_image\")\n",
    "viewer2.layers[\"my_image\"].gamma = 0.2"
   ]
  },
  {
   "cell_type": "markdown",
   "id": "c4de4b65-8575-42b8-b0c9-cf1aa3838607",
   "metadata": {},
   "source": [
    "## split the 2 \"channels\""
   ]
  },
  {
   "cell_type": "code",
   "execution_count": 6,
   "id": "5007cee4-c660-404b-9d96-e423e35d80b3",
   "metadata": {},
   "outputs": [],
   "source": [
    "# take every other frame (starting form index 0)\n",
    "ch_1 = viewer2.layers[\"my_image\"].data[::2,:,:]"
   ]
  },
  {
   "cell_type": "code",
   "execution_count": 7,
   "id": "844e733b-7f8b-4fa3-ac55-a24e28ad9580",
   "metadata": {},
   "outputs": [
    {
     "data": {
      "text/plain": [
       "<Image layer 'ch_1' at 0x1c95999d0>"
      ]
     },
     "execution_count": 7,
     "metadata": {},
     "output_type": "execute_result"
    }
   ],
   "source": [
    "viewer2.add_image(ch_1)"
   ]
  },
  {
   "cell_type": "code",
   "execution_count": 8,
   "id": "0011c87e-4928-4889-989e-a950bd2f3f4a",
   "metadata": {},
   "outputs": [],
   "source": [
    "# take every other frame (starting form index 1)\n",
    "ch_2 = viewer2.layers[\"my_image\"].data[1::2,:,:]"
   ]
  },
  {
   "cell_type": "code",
   "execution_count": 9,
   "id": "0a244dcb-6f4f-44e8-9ae8-556d08c81272",
   "metadata": {},
   "outputs": [
    {
     "data": {
      "text/plain": [
       "<Image layer 'ch_2' at 0x1d6a3ceb0>"
      ]
     },
     "execution_count": 9,
     "metadata": {},
     "output_type": "execute_result"
    }
   ],
   "source": [
    "viewer2.add_image(ch_2)"
   ]
  },
  {
   "cell_type": "markdown",
   "id": "be1b2240-36af-490a-9d92-8b3a42d4c6ee",
   "metadata": {},
   "source": [
    "## Normalize the image and plot it"
   ]
  },
  {
   "cell_type": "code",
   "execution_count": null,
   "id": "a5c64bf1-ac44-46f5-8b06-c8f6dc027286",
   "metadata": {},
   "outputs": [],
   "source": []
  },
  {
   "cell_type": "code",
   "execution_count": 10,
   "id": "89fc3503-b62a-406d-a864-364bae1d75e7",
   "metadata": {},
   "outputs": [],
   "source": [
    "# # Create function that invert the peaks\n",
    "\n",
    "# def set_peak_positive_fun(np_array):\n",
    "#     # return np_array*-1 #+ 2 * np_array.min()\n",
    "#     return np_array*-1 +  np_array.max() + np_array.min()"
   ]
  },
  {
   "cell_type": "code",
   "execution_count": 11,
   "id": "47da56eb-23e8-42fd-8498-a4eb3eaf2413",
   "metadata": {},
   "outputs": [],
   "source": [
    "# # Create function that compute local normalization *base on Callum\n",
    "\n",
    "# def local_norm_fun(np_array):\n",
    "#     return ( (np_array - np_array.min(axis = 0) - np_array) / np_array.min() ) + 1"
   ]
  },
  {
   "cell_type": "code",
   "execution_count": null,
   "id": "b757268b-0015-49e2-8394-f404a898dee3",
   "metadata": {},
   "outputs": [],
   "source": []
  },
  {
   "cell_type": "code",
   "execution_count": 12,
   "id": "a30025cb-48db-4285-9744-24d00e840255",
   "metadata": {},
   "outputs": [],
   "source": [
    "# Create function that compute local normalization *base on Callum\n",
    "def local_normal_fun(np_array):\n",
    "    \"\"\"\n",
    "    arguments\n",
    "    np_array = a 3d numpy array\"\"\"\n",
    "    \n",
    "    return (np_array.min(axis = 0) - np_array) / np_array.max(axis = 0)\n",
    "    \n",
    "    "
   ]
  },
  {
   "cell_type": "code",
   "execution_count": 13,
   "id": "1be2bd99-0fbf-4f8d-babf-5ff9776c2c72",
   "metadata": {},
   "outputs": [],
   "source": [
    "# local_normal_fun(ch_1)"
   ]
  },
  {
   "cell_type": "markdown",
   "id": "9069e52e-5d7f-4d46-8b78-9045b6dde678",
   "metadata": {
    "tags": []
   },
   "source": [
    "### CH_1"
   ]
  },
  {
   "cell_type": "code",
   "execution_count": 14,
   "id": "ce19c7ec-0913-4e98-beda-1c5d9827fe11",
   "metadata": {},
   "outputs": [],
   "source": [
    "ch_1_norm = local_normal_fun(ch_1)"
   ]
  },
  {
   "cell_type": "code",
   "execution_count": 15,
   "id": "f2cc3eb9-dfbb-446b-b593-00ffa738db8a",
   "metadata": {},
   "outputs": [
    {
     "data": {
      "text/plain": [
       "<Image layer 'ch_1_norm' at 0x110a3c280>"
      ]
     },
     "execution_count": 15,
     "metadata": {},
     "output_type": "execute_result"
    }
   ],
   "source": [
    "viewer2.add_image(ch_1_norm)"
   ]
  },
  {
   "cell_type": "markdown",
   "id": "6065409f-2939-4bd3-ab48-643d190234ac",
   "metadata": {
    "tags": []
   },
   "source": [
    "### CH_2"
   ]
  },
  {
   "cell_type": "code",
   "execution_count": 27,
   "id": "22f84472-81de-487c-90d9-5e37b1040631",
   "metadata": {},
   "outputs": [],
   "source": [
    "ch_2_norm = (local_normal_fun(ch_2) * -1) - 0.11"
   ]
  },
  {
   "cell_type": "code",
   "execution_count": 28,
   "id": "4a5bf8bd-ca6b-48dd-a3ce-eda217ce0bfa",
   "metadata": {},
   "outputs": [
    {
     "data": {
      "text/plain": [
       "<Image layer 'ch_2_norm' at 0x1cb4f4160>"
      ]
     },
     "execution_count": 28,
     "metadata": {},
     "output_type": "execute_result"
    }
   ],
   "source": [
    "viewer2.add_image(ch_2_norm)"
   ]
  },
  {
   "cell_type": "code",
   "execution_count": 18,
   "id": "e149a37f-731d-4be6-a457-06e6490452fb",
   "metadata": {},
   "outputs": [
    {
     "data": {
      "text/plain": [
       "(500, 370, 1800)"
      ]
     },
     "execution_count": 18,
     "metadata": {},
     "output_type": "execute_result"
    }
   ],
   "source": [
    "ch_2_norm.shape"
   ]
  },
  {
   "cell_type": "code",
   "execution_count": null,
   "id": "13cd91ba-3494-42e5-8ab1-6aef3a73d57c",
   "metadata": {},
   "outputs": [],
   "source": []
  },
  {
   "cell_type": "code",
   "execution_count": null,
   "id": "2207590b-c8f4-4580-8dbf-4b9805c06ee6",
   "metadata": {},
   "outputs": [],
   "source": []
  },
  {
   "cell_type": "code",
   "execution_count": null,
   "id": "c3ba647a-6168-4cc4-b76a-9591af27c3fc",
   "metadata": {},
   "outputs": [],
   "source": []
  },
  {
   "cell_type": "code",
   "execution_count": null,
   "id": "ee481d68-4820-4124-bba2-676aa860f00c",
   "metadata": {},
   "outputs": [],
   "source": []
  }
 ],
 "metadata": {
  "kernelspec": {
   "display_name": "python3 (omass_env) *",
   "language": "python",
   "name": "conda-env-omass_env-py"
  },
  "language_info": {
   "codemirror_mode": {
    "name": "ipython",
    "version": 3
   },
   "file_extension": ".py",
   "mimetype": "text/x-python",
   "name": "python",
   "nbconvert_exporter": "python",
   "pygments_lexer": "ipython3",
   "version": "3.9.13"
  }
 },
 "nbformat": 4,
 "nbformat_minor": 5
}
